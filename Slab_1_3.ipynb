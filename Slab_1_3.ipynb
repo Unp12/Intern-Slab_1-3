{
  "nbformat": 4,
  "nbformat_minor": 0,
  "metadata": {
    "colab": {
      "provenance": [],
      "include_colab_link": true
    },
    "kernelspec": {
      "name": "python3",
      "display_name": "Python 3"
    },
    "language_info": {
      "name": "python"
    }
  },
  "cells": [
    {
      "cell_type": "markdown",
      "metadata": {
        "id": "view-in-github",
        "colab_type": "text"
      },
      "source": [
        "<a href=\"https://colab.research.google.com/github/Unp12/Intern-Slab_1-3/blob/main/Slab_1_3.ipynb\" target=\"_parent\"><img src=\"https://colab.research.google.com/assets/colab-badge.svg\" alt=\"Open In Colab\"/></a>"
      ]
    },
    {
      "cell_type": "code",
      "source": [
        "import numpy as np"
      ],
      "metadata": {
        "id": "cmtRn2aBeON5"
      },
      "execution_count": 1,
      "outputs": []
    },
    {
      "cell_type": "code",
      "source": [
        "def perform_operations():\n",
        "    print(\"Matrix Operations Tool\")\n",
        "\n",
        "    # Input dimensions\n",
        "    rows = int(input(\"Enter the number of rows for the matrices: \"))\n",
        "    cols = int(input(\"Enter the number of columns for the matrices: \"))\n",
        "\n",
        "    print(\"\\nEnter values for Matrix 1:\")\n",
        "    matrix1 = []\n",
        "    for i in range(rows):\n",
        "        row = list(map(int, input(f\"Row {i + 1}: \").split()))\n",
        "        matrix1.append(row)\n",
        "    matrix1 = np.array(matrix1)\n",
        "\n",
        "    print(\"\\nEnter values for Matrix 2:\")\n",
        "    matrix2 = []\n",
        "    for i in range(rows):\n",
        "        row = list(map(int, input(f\"Row {i + 1}: \").split()))\n",
        "        matrix2.append(row)\n",
        "    matrix2 = np.array(matrix2)\n",
        "\n",
        "    print(\"\\nMatrix 1:\")\n",
        "    print(matrix1)\n",
        "\n",
        "    print(\"\\nMatrix 2:\")\n",
        "    print(matrix2)\n",
        "\n",
        "    # Operations\n",
        "    print(\"\\nAddition:\")\n",
        "    print(np.add(matrix1, matrix2))\n",
        "\n",
        "    print(\"\\nSubtraction:\")\n",
        "    print(np.subtract(matrix1, matrix2))\n",
        "\n",
        "    # Multiplication (if dimensions are valid for dot product)\n",
        "    try:\n",
        "        print(\"\\nMultiplication:\")\n",
        "        print(np.dot(matrix1, matrix2))\n",
        "    except ValueError:\n",
        "        print(\"\\nMultiplication: Cannot multiply the given matrices with these dimensions.\")\n",
        "\n",
        "    print(\"\\nTranspose of Matrix 1:\")\n",
        "    print(matrix1.T)\n",
        "\n",
        "    # Determinant (only valid for square matrices)\n",
        "    if rows == cols:\n",
        "        print(\"\\nDeterminant of Matrix 1:\")\n",
        "        print(np.linalg.det(matrix1))\n",
        "    else:\n",
        "        print(\"\\nDeterminant: Matrix 1 is not square, determinant cannot be calculated.\")\n",
        "\n",
        "# Run the function\n",
        "perform_operations()"
      ],
      "metadata": {
        "colab": {
          "base_uri": "https://localhost:8080/"
        },
        "id": "BW7SjTFYeUAR",
        "outputId": "1c0ceff2-ef8a-4c88-a1eb-046b396005cf"
      },
      "execution_count": null,
      "outputs": [
        {
          "output_type": "stream",
          "name": "stdout",
          "text": [
            "Matrix Operations Tool\n",
            "Enter the number of rows for the matrices: 3\n",
            "Enter the number of columns for the matrices: 2\n",
            "\n",
            "Enter values for Matrix 1:\n",
            "Row 1: 2\n",
            "Row 2: 3\n",
            "Row 3: 4\n",
            "\n",
            "Enter values for Matrix 2:\n",
            "Row 1: 2\n",
            "Row 2: 3\n",
            "Row 3: 2\n",
            "\n",
            "Matrix 1:\n",
            "[[2]\n",
            " [3]\n",
            " [4]]\n",
            "\n",
            "Matrix 2:\n",
            "[[2]\n",
            " [3]\n",
            " [2]]\n",
            "\n",
            "Addition:\n",
            "[[4]\n",
            " [6]\n",
            " [6]]\n",
            "\n",
            "Subtraction:\n",
            "[[0]\n",
            " [0]\n",
            " [2]]\n",
            "\n",
            "Multiplication:\n",
            "\n",
            "Multiplication: Cannot multiply the given matrices with these dimensions.\n",
            "\n",
            "Transpose of Matrix 1:\n",
            "[[2 3 4]]\n",
            "\n",
            "Determinant: Matrix 1 is not square, determinant cannot be calculated.\n"
          ]
        }
      ]
    }
  ]
}